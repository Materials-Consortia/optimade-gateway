{
 "cells": [
  {
   "cell_type": "code",
   "execution_count": null,
   "metadata": {},
   "outputs": [],
   "source": [
    "from enum import Enum\n",
    "import json\n",
    "from optimade.adapters import Structure\n",
    "from optimade_gateway.models import DatabasesResponse, QueriesResponseSingle\n",
    "from pydantic import ValidationError\n",
    "from random import randint\n",
    "import requests\n",
    "from time import sleep\n",
    "\n",
    "OPTIMADE_GATEWAY_BASE_URL = \"https://optimade-gateway.herokuapp.com\""
   ]
  },
  {
   "cell_type": "markdown",
   "metadata": {},
   "source": [
    "Let's check what databases are available."
   ]
  },
  {
   "cell_type": "code",
   "execution_count": null,
   "metadata": {},
   "outputs": [],
   "source": [
    "response = requests.get(f\"{OPTIMADE_GATEWAY_BASE_URL}/databases\")\n",
    "if response.ok:\n",
    "    databases_response = DatabasesResponse(**response.json())\n",
    "else:\n",
    "    raise RuntimeError(f\"Unsuccessful response.\\nStatus code: {response.status_code}\\nResponse:\\n{response.json()}\")\n",
    "\n",
    "print(\"Available databases:\")\n",
    "print(\"\\n\".join(f\"- {_.id} ({_.attributes.base_url})\" for _ in databases_response.data))"
   ]
  },
  {
   "cell_type": "markdown",
   "metadata": {},
   "source": [
    "Use the database ID (e.g., `mcloud/sssp`) in the list of `database_ids` when using the `/search` endpoint.\n",
    "Otherwise, simply use the [standard OPTIMADE `/structures` query parameters](https://github.com/Materials-Consortia/OPTIMADE/blob/develop/optimade.rst#entry-listing-url-query-parameters)."
   ]
  },
  {
   "cell_type": "code",
   "execution_count": null,
   "metadata": {},
   "outputs": [],
   "source": [
    "database_ids = [\n",
    "    \"mcloud/sssp\",\n",
    "    \"cod\",\n",
    "    \"mp\",\n",
    "    \"mcloud/mc3d-structures\",\n",
    "]\n",
    "\n",
    "optimade_filter = 'elements HAS ALL \"Si\",\"Al\",\"Mg\"'"
   ]
  },
  {
   "cell_type": "code",
   "execution_count": null,
   "metadata": {},
   "outputs": [],
   "source": [
    "response = requests.get(\n",
    "    f\"{OPTIMADE_GATEWAY_BASE_URL}/search\",\n",
    "    params={\n",
    "        \"database_ids\": database_ids,\n",
    "        \"filter\": optimade_filter,\n",
    "        \"timeout\": 30,\n",
    "    }\n",
    ")\n",
    "if response.ok:\n",
    "    search_response = QueriesResponseSingle(**response.json())\n",
    "else:\n",
    "    raise RuntimeError(f\"Unsuccessful response.\\nStatus code: {response.status_code}\\nResponse:\\n{json.dumps(response.json(), indent=2)}\")\n",
    "\n",
    "print(\"Query overview:\")\n",
    "print(\"\\n\".join(f\"- {id_} (Returned results: {len(data)})\" for id_, data in search_response.data.attributes.response.data.items()))"
   ]
  },
  {
   "cell_type": "code",
   "execution_count": null,
   "metadata": {},
   "outputs": [],
   "source": [
    "structures = {}\n",
    "for database, database_structures in search_response.data.attributes.response.data.items():\n",
    "    structures[database] = []\n",
    "    for structure in database_structures:\n",
    "        try:\n",
    "            structures[database].append(Structure(structure.dict()))\n",
    "        except ValidationError:\n",
    "            # print(f\"Skipping structure (id={structure.id}) from database {database}\")\n",
    "            continue\n",
    "\n",
    "print(\"\\nQuery overview (after validating structure properties):\")\n",
    "print(\"\\n\".join(f\"- {id_} (Valid results: {len(data)})\" for id_, data in structures.items()))"
   ]
  },
  {
   "cell_type": "markdown",
   "metadata": {},
   "source": [
    "The `structures` dictionary now holds all the structures that validate against the [OPTIMADE Python tools](https://github.com/Materials-Consortia/optimade-python-tools) structure-type model.\n",
    "The keys of the `structures` dictionary are the database IDs, while the values are a list of [OPTIMADE Python tools `Structure` adapters](https://www.optimade.org/optimade-python-tools/latest/api_reference/adapters/structures/adapter/#optimade.adapters.structures.adapter.Structure), with which one can convert the structure to other well-known formats, e.g., ASE `Atoms`, AiiDA `StructureData` or even a CIF file or PDB file.\n",
    "For the latter, it will return the string content for such a file, you will have to write it to a file object yourself.\n",
    "\n",
    "The following is a showcase of converting a random structure in `structures` to a CIF file syntax:"
   ]
  },
  {
   "cell_type": "code",
   "execution_count": null,
   "metadata": {},
   "outputs": [],
   "source": [
    "for db_structures in structures.values():\n",
    "    if db_structures:\n",
    "        a_structure = db_structures[randint(0, len(db_structures)-1)]\n",
    "print(a_structure.as_ase)"
   ]
  },
  {
   "cell_type": "markdown",
   "metadata": {},
   "source": [
    "### MarketPlace\n",
    "\n",
    "Using the OPTIMADE Gateway from the MarketPlace.\n",
    "\n",
    "Changes:\n",
    "- Go through the proxy service, using capabilities.\n",
    "- Provide an authorization token (if you want to identify yourself to the OPTIMADE servers)."
   ]
  },
  {
   "cell_type": "code",
   "execution_count": null,
   "metadata": {},
   "outputs": [],
   "source": [
    "MARKETPLACE_OPTIMADE_APP = \"https://staging.the-marketplace.eu/api/proxy/proxy/1bb6b264-d896-47e2-b54d-6d49e05299f2\"\n",
    "\n",
    "class Capabilities(Enum):\n",
    "    \"\"\"Implemented capabilities by the OPTIMADE Gateway.\"\"\"\n",
    "\n",
    "    HEARTBEAT = \"heartbeat\"  # GET /heartbeat\n",
    "    GET_COLLECTION = \"getCollection\"  # GET /queries/<ID>\n",
    "    QUERY_COLLECTION = \"queryCollection\"  # GET /search\n",
    "    POST_QUERY_COLLECTION = \"postQueryCollection\"  # POST /search"
   ]
  },
  {
   "cell_type": "markdown",
   "metadata": {},
   "source": [
    "Now:\n",
    "\n",
    "1. Follow [this guide](https://marketplace.pages.fraunhofer.de/platform/documentation/application-provider-docs/access_token.html) to obtain an access token.\n",
    "1. Paste in the token in the code cell below.\n",
    "1. \"Purchase\" the \"OPTIMADE Gateway\" application from [the MarketPlace App Store](https://staging.the-marketplace.eu/appstore)."
   ]
  },
  {
   "cell_type": "code",
   "execution_count": null,
   "metadata": {},
   "outputs": [],
   "source": [
    "# Paste in your authentication token between the quotations (`\"`) here:\n",
    "USER_AUTH_TOKEN = \"\"\n",
    "\n",
    "response = requests.get(f\"{MARKETPLACE_OPTIMADE_APP}/{Capabilities.HEARTBEAT.value}\", headers={\"Authorization\": f\"Bearer {USER_AUTH_TOKEN}\"})\n",
    "if response.ok:\n",
    "    print(response.text)\n",
    "else:\n",
    "    raise RuntimeError(f\"Response:\\n{response.text}\")"
   ]
  },
  {
   "cell_type": "code",
   "execution_count": null,
   "metadata": {},
   "outputs": [],
   "source": [
    "response = requests.post(\n",
    "    f\"{MARKETPLACE_OPTIMADE_APP}/{Capabilities.POST_QUERY_COLLECTION.value}\",  # POST /search\n",
    "    json={\n",
    "        \"database_ids\": database_ids,\n",
    "        \"query_parameters\": {\"filter\": optimade_filter},\n",
    "    },\n",
    "    headers={\"Authorization\": f\"Bearer {USER_AUTH_TOKEN}\"},\n",
    ")\n",
    "if response.ok:\n",
    "    search_response = QueriesResponseSingle(**response.json())\n",
    "else:\n",
    "    try:\n",
    "        parsed_response = json.dumps(response.json(), indent=2)\n",
    "        if \"_gateway_traceback\" in response.json().get(\"meta\", {}):\n",
    "            parsed_response += f\"\\nTraceback:\\n{response.json()['meta']['_gateway_traceback']}\"\n",
    "    except json.JSONDecodeError:\n",
    "        parsed_response = response.text\n",
    "    raise RuntimeError(f\"Unsuccessful response.\\nStatus code: {response.status_code}\\nResponse:\\n{parsed_response}\")\n",
    "\n",
    "state = search_response.data.attributes.state\n",
    "while state != state.FINISHED:\n",
    "    sleep(2)\n",
    "    response = requests.get(\n",
    "        f\"{MARKETPLACE_OPTIMADE_APP}/{Capabilities.GET_COLLECTION.value}\",  # GET /queries/<ID>\n",
    "        params={\"query_id\": search_response.data.id},\n",
    "        headers={\"Authorization\": f\"Bearer {USER_AUTH_TOKEN}\"},\n",
    "    )\n",
    "    if response.ok:\n",
    "        query_response = QueriesResponseSingle(**response.json())\n",
    "        state = query_response.data.attributes.state\n",
    "    else:\n",
    "        try:\n",
    "            parsed_response = json.dumps(response.json(), indent=2)\n",
    "            if \"_gateway_traceback\" in response.json().get(\"meta\", {}):\n",
    "                parsed_response += f\"\\nTraceback:\\n{response.json()['meta']['_gateway_traceback']}\"\n",
    "        except json.JSONDecodeError:\n",
    "            parsed_response = response.text\n",
    "        raise RuntimeError(f\"Unsuccessful response.\\nStatus code: {response.status_code}\\nResponse:\\n{parsed_response}\")\n",
    "\n",
    "print(\"Query overview:\")\n",
    "print(\"\\n\".join(f\"- {id_} (Returned results: {len(data)})\" for id_, data in query_response.data.attributes.response.data.items()))"
   ]
  },
  {
   "cell_type": "code",
   "execution_count": null,
   "metadata": {},
   "outputs": [],
   "source": [
    "structures = {}\n",
    "for database, database_structures in query_response.data.attributes.response.data.items():\n",
    "    structures[database] = []\n",
    "    for structure in database_structures:\n",
    "        try:\n",
    "            structures[database].append(Structure(structure.dict()))\n",
    "        except ValidationError:\n",
    "            continue\n",
    "            # print(f\"Skipping structure (id={structure.id}) from database {database}\")\n",
    "\n",
    "print(\"\\nQuery overview (after validating structure properties):\")\n",
    "print(\"\\n\".join(f\"- {id_} (Valid results: {len(data)})\" for id_, data in structures.items()))"
   ]
  },
  {
   "cell_type": "code",
   "execution_count": null,
   "metadata": {},
   "outputs": [],
   "source": [
    "for db_structures in structures.values():\n",
    "    if db_structures:\n",
    "        a_structure = db_structures[randint(0, len(db_structures)-1)]\n",
    "print(a_structure.as_pymatgen)"
   ]
  }
 ],
 "metadata": {
  "interpreter": {
   "hash": "83a304c523089dae3e821d73b2bba45645c24f7d1f49d0d851a599845009985d"
  },
  "kernelspec": {
   "display_name": "Python 3.8.10 64-bit ('marketplace': virtualenv)",
   "language": "python",
   "name": "python3"
  },
  "language_info": {
   "codemirror_mode": {
    "name": "ipython",
    "version": 3
   },
   "file_extension": ".py",
   "mimetype": "text/x-python",
   "name": "python",
   "nbconvert_exporter": "python",
   "pygments_lexer": "ipython3",
   "version": "3.8.10"
  },
  "orig_nbformat": 4
 },
 "nbformat": 4,
 "nbformat_minor": 2
}
