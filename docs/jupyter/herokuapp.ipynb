{
 "cells": [
  {
   "cell_type": "markdown",
   "metadata": {},
   "source": [
    "# Test OPTIMADE Gateway on Heroku\n",
    "\n",
    "This notebook outlines how one can perform OPTIMADE searches through the OPTIMADE Gateway deployed on Heroku."
   ]
  },
  {
   "cell_type": "code",
   "execution_count": 2,
   "metadata": {},
   "outputs": [],
   "source": [
    "import os\n",
    "\n",
    "os.environ[\"OPTIMADE_CONFIG_FILE\"] = \"../../config_heroku.yml\"\n",
    "\n",
    "import json\n",
    "from optimade.adapters import Structure\n",
    "from optimade_gateway.models import DatabasesResponse, QueriesResponseSingle\n",
    "from pydantic import ValidationError\n",
    "from random import randint\n",
    "import requests\n",
    "\n",
    "OPTIMADE_GATEWAY_BASE_URL = \"https://optimade-gateway.herokuapp.com\""
   ]
  },
  {
   "cell_type": "markdown",
   "metadata": {},
   "source": [
    "## Retrieve list of known OPTIMADE databases\n",
    "\n",
    "Let's check what databases are available."
   ]
  },
  {
   "cell_type": "code",
   "execution_count": null,
   "metadata": {},
   "outputs": [],
   "source": [
    "response = requests.get(f\"{OPTIMADE_GATEWAY_BASE_URL}/databases\")\n",
    "if response.ok:\n",
    "    databases_response = DatabasesResponse(**response.json())\n",
    "else:\n",
    "    raise RuntimeError(\n",
    "        f\"Unsuccessful response.\\nStatus code: {response.status_code}\\n\"\n",
    "        f\"Response:\\n{response.json()}\"\n",
    "    )\n",
    "\n",
    "print(\"Available databases:\")\n",
    "print(\n",
    "    \"\\n\".join(\n",
    "        f\"- {_.id} ({_.attributes.base_url})\"\n",
    "        for _ in databases_response.data\n",
    "    )\n",
    ")"
   ]
  },
  {
   "cell_type": "markdown",
   "metadata": {},
   "source": [
    "## Define OPTIMADE search\n",
    "\n",
    "Use the database ID (e.g., `mcloud/sssp`) in the list of `database_ids` when using the `/search` endpoint.\n",
    "Otherwise, simply use the [standard OPTIMADE `/structures` query parameters](https://github.com/Materials-Consortia/OPTIMADE/blob/develop/optimade.rst#entry-listing-url-query-parameters)."
   ]
  },
  {
   "cell_type": "code",
   "execution_count": null,
   "metadata": {},
   "outputs": [],
   "source": [
    "database_ids = [\n",
    "    \"mcloud/sssp\",\n",
    "    \"cod\",\n",
    "    \"mp\",\n",
    "    \"mcloud/mc3d-structures\",\n",
    "]\n",
    "\n",
    "optimade_filter = 'elements HAS ALL \"Si\",\"Al\",\"Mg\"'"
   ]
  },
  {
   "cell_type": "code",
   "execution_count": null,
   "metadata": {},
   "outputs": [],
   "source": [
    "response = requests.get(\n",
    "    f\"{OPTIMADE_GATEWAY_BASE_URL}/search\",\n",
    "    params={\n",
    "        \"database_ids\": database_ids,\n",
    "        \"filter\": optimade_filter,\n",
    "        \"timeout\": 30,\n",
    "    }\n",
    ")\n",
    "if response.ok:\n",
    "    search_response = QueriesResponseSingle(**response.json())\n",
    "else:\n",
    "    raise RuntimeError(\n",
    "        f\"Unsuccessful response.\\nStatus code: {response.status_code}\\n\"\n",
    "        f\"Response:\\n{json.dumps(response.json(), indent=2)}\"\n",
    "    )\n",
    "\n",
    "print(\"Query overview:\")\n",
    "print(\n",
    "    \"\\n\".join(\n",
    "        f\"- {id_} (Returned results: {len(data)})\"\n",
    "        for id_, data in search_response.data.attributes.response.data.items()\n",
    "    )\n",
    ")"
   ]
  },
  {
   "cell_type": "markdown",
   "metadata": {},
   "source": [
    "## Curate and process search results"
   ]
  },
  {
   "cell_type": "code",
   "execution_count": null,
   "metadata": {},
   "outputs": [],
   "source": [
    "structures = {}\n",
    "for (\n",
    "    database, database_structures\n",
    ") in search_response.data.attributes.response.data.items():\n",
    "    structures[database] = []\n",
    "    for structure in database_structures:\n",
    "        try:\n",
    "            structures[database].append(Structure(structure.dict()))\n",
    "        except ValidationError:\n",
    "            continue\n",
    "\n",
    "print(\"\\nQuery overview (after validating structure properties):\")\n",
    "print(\n",
    "    \"\\n\".join(\n",
    "        f\"- {id_} (Valid results: {len(data)})\"\n",
    "        for id_, data in structures.items()\n",
    "    )\n",
    ")"
   ]
  },
  {
   "cell_type": "markdown",
   "metadata": {},
   "source": [
    "The `structures` dictionary now holds all the structures that validate against the [OPTIMADE Python tools](https://github.com/Materials-Consortia/optimade-python-tools) structure-type model.\n",
    "The keys of the `structures` dictionary are the database IDs, while the values are a list of [OPTIMADE Python tools `Structure` adapters](https://www.optimade.org/optimade-python-tools/latest/api_reference/adapters/structures/adapter/#optimade.adapters.structures.adapter.Structure), with which one can convert the structure to other well-known formats, e.g., ASE `Atoms`, AiiDA `StructureData` or even a CIF file or PDB file.\n",
    "For the latter, it will return the string content for such a file, you will have to write it to a file object yourself.\n",
    "\n",
    "The following is a showcase of converting a random structure in `structures` to a CIF file syntax:"
   ]
  },
  {
   "cell_type": "code",
   "execution_count": null,
   "metadata": {},
   "outputs": [],
   "source": [
    "for db_structures in structures.values():\n",
    "    if db_structures:\n",
    "        a_structure = db_structures[randint(0, len(db_structures)-1)]\n",
    "print(a_structure.as_cif)"
   ]
  }
 ],
 "metadata": {
  "interpreter": {
   "hash": "83a304c523089dae3e821d73b2bba45645c24f7d1f49d0d851a599845009985d"
  },
  "kernelspec": {
   "display_name": "Python 3.8.10 64-bit ('marketplace': virtualenv)",
   "language": "python",
   "name": "python3"
  },
  "language_info": {
   "codemirror_mode": {
    "name": "ipython",
    "version": 3
   },
   "file_extension": ".py",
   "mimetype": "text/x-python",
   "name": "python",
   "nbconvert_exporter": "python",
   "pygments_lexer": "ipython3",
   "version": "3.8.10"
  },
  "orig_nbformat": 4
 },
 "nbformat": 4,
 "nbformat_minor": 2
}
