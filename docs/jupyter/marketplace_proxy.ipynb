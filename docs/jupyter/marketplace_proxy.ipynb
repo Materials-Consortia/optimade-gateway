{
 "cells": [
  {
   "cell_type": "markdown",
   "metadata": {},
   "source": [
    "# Use the OPTIMADE Gateway on the MarketPlace platform\n",
    "\n",
    "This notebook outlines how one can perform OPTIMADE searches through the OPTIMADE Gateway available on [the MarketPlace platform](https://the-marketplace.eu)."
   ]
  },
  {
   "cell_type": "code",
   "execution_count": null,
   "metadata": {},
   "outputs": [],
   "source": [
    "import os\n",
    "\n",
    "os.environ[\"OPTIMADE_CONFIG_FILE\"] = \"../../config_heroku.yml\"\n",
    "\n",
    "from enum import Enum\n",
    "import json\n",
    "from optimade.adapters import Structure\n",
    "from optimade_gateway.models import QueriesResponseSingle\n",
    "from pydantic import ValidationError\n",
    "from random import randint\n",
    "import requests\n",
    "from time import sleep"
   ]
  },
  {
   "cell_type": "markdown",
   "metadata": {},
   "source": [
    "## MarketPlace\n",
    "\n",
    "Using the OPTIMADE Gateway from the MarketPlace.\n",
    "\n",
    "Changes:\n",
    "- Go through the proxy service, using capabilities.\n",
    "- Provide an authorization token."
   ]
  },
  {
   "cell_type": "code",
   "execution_count": null,
   "metadata": {},
   "outputs": [],
   "source": [
    "MARKETPLACE_OPTIMADE_APP = (\n",
    "    \"https://staging.the-marketplace.eu\"\n",
    "    \"/api/proxy/proxy/1bb6b264-d896-47e2-b54d-6d49e05299f2\"\n",
    ")\n",
    "\n",
    "class Capabilities(Enum):\n",
    "    \"\"\"Implemented capabilities by the OPTIMADE Gateway.\"\"\"\n",
    "\n",
    "    HEARTBEAT = \"heartbeat\"  # GET /heartbeat\n",
    "    GET_COLLECTION = \"getCollection\"  # GET /queries/<ID>\n",
    "    QUERY_COLLECTION = \"queryCollection\"  # GET /search\n",
    "    POST_QUERY_COLLECTION = \"postQueryCollection\"  # POST /search"
   ]
  },
  {
   "cell_type": "markdown",
   "metadata": {},
   "source": [
    "Now:\n",
    "\n",
    "1. Follow [this guide](https://marketplace.pages.fraunhofer.de/platform/documentation/application-provider-docs/access_token.html) to obtain an access token.\n",
    "1. Paste in the token in the code cell below.\n",
    "1. \"Purchase\" the \"OPTIMADE Gateway\" application from [the MarketPlace App Store](https://staging.the-marketplace.eu/appstore)."
   ]
  },
  {
   "cell_type": "code",
   "execution_count": null,
   "metadata": {},
   "outputs": [],
   "source": [
    "# Paste in your authentication token between the quotations (`\"`) here:\n",
    "USER_AUTH_TOKEN = \"\"\n",
    "\n",
    "response = requests.get(\n",
    "    f\"{MARKETPLACE_OPTIMADE_APP}/{Capabilities.HEARTBEAT.value}\",\n",
    "    headers={\"Authorization\": f\"Bearer {USER_AUTH_TOKEN}\"},\n",
    ")\n",
    "if response.ok:\n",
    "    print(response.text)\n",
    "else:\n",
    "    raise RuntimeError(f\"Response:\\n{response.text}\")"
   ]
  },
  {
   "cell_type": "markdown",
   "metadata": {},
   "source": [
    "### Perform OPTIMADE search through the MarketPlace"
   ]
  },
  {
   "cell_type": "code",
   "execution_count": null,
   "metadata": {},
   "outputs": [],
   "source": [
    "database_ids = [\n",
    "    \"mcloud/sssp\",\n",
    "    \"cod\",\n",
    "    \"mp\",\n",
    "    \"mcloud/mc3d-structures\",\n",
    "]\n",
    "\n",
    "optimade_filter = 'elements HAS ALL \"Si\",\"Al\",\"Mg\"'"
   ]
  },
  {
   "cell_type": "code",
   "execution_count": null,
   "metadata": {},
   "outputs": [],
   "source": [
    "response = requests.post(  # POST /search\n",
    "    f\"{MARKETPLACE_OPTIMADE_APP}/{Capabilities.POST_QUERY_COLLECTION.value}\",\n",
    "    json={\n",
    "        \"database_ids\": database_ids,\n",
    "        \"query_parameters\": {\"filter\": optimade_filter},\n",
    "    },\n",
    "    headers={\"Authorization\": f\"Bearer {USER_AUTH_TOKEN}\"},\n",
    ")\n",
    "if response.ok:\n",
    "    search_response = QueriesResponseSingle(**response.json())\n",
    "else:\n",
    "    try:\n",
    "        parsed_response = json.dumps(response.json(), indent=2)\n",
    "        if \"_gateway_traceback\" in response.json().get(\"meta\", {}):\n",
    "            parsed_response += (\n",
    "                f\"\\nTraceback:\\n{response.json()['meta']['_gateway_traceback']}\"\n",
    "            )\n",
    "    except json.JSONDecodeError:\n",
    "        parsed_response = response.text\n",
    "    raise RuntimeError(\n",
    "        f\"Unsuccessful response.\\nStatus code: {response.status_code}\\n\"\n",
    "        f\"Response:\\n{parsed_response}\"\n",
    "    )\n",
    "\n",
    "state = search_response.data.attributes.state\n",
    "while state != state.FINISHED:\n",
    "    sleep(2)\n",
    "    response = requests.get(  # GET /queries/<ID>\n",
    "        f\"{MARKETPLACE_OPTIMADE_APP}/{Capabilities.GET_COLLECTION.value}\",\n",
    "        params={\"query_id\": search_response.data.id},\n",
    "        headers={\"Authorization\": f\"Bearer {USER_AUTH_TOKEN}\"},\n",
    "    )\n",
    "    if response.ok:\n",
    "        query_response = QueriesResponseSingle(**response.json())\n",
    "        state = query_response.data.attributes.state\n",
    "    else:\n",
    "        try:\n",
    "            parsed_response = json.dumps(response.json(), indent=2)\n",
    "            if \"_gateway_traceback\" in response.json().get(\"meta\", {}):\n",
    "                parsed_response += (\n",
    "                    f\"\\nTraceback:\\n{response.json()['meta']['_gateway_traceback']}\"\n",
    "                )\n",
    "        except json.JSONDecodeError:\n",
    "            parsed_response = response.text\n",
    "        raise RuntimeError(\n",
    "            f\"Unsuccessful response.\\nStatus code: {response.status_code}\\n\"\n",
    "            f\"Response:\\n{parsed_response}\"\n",
    "        )\n",
    "\n",
    "print(\"Query overview:\")\n",
    "print(\n",
    "    \"\\n\".join(\n",
    "        f\"- {id_} (Returned results: {len(data)})\"\n",
    "        for id_, data in query_response.data.attributes.response.data.items()\n",
    "    )\n",
    ")"
   ]
  },
  {
   "cell_type": "markdown",
   "metadata": {},
   "source": [
    "### Curate and process search results"
   ]
  },
  {
   "cell_type": "code",
   "execution_count": null,
   "metadata": {},
   "outputs": [],
   "source": [
    "structures = {}\n",
    "for (\n",
    "    database, database_structures\n",
    ") in query_response.data.attributes.response.data.items():\n",
    "    structures[database] = []\n",
    "    for structure in database_structures:\n",
    "        try:\n",
    "            structures[database].append(Structure(structure.dict()))\n",
    "        except ValidationError:\n",
    "            continue\n",
    "\n",
    "print(\"\\nQuery overview (after validating structure properties):\")\n",
    "print(\n",
    "    \"\\n\".join(\n",
    "        f\"- {id_} (Valid results: {len(data)})\"\n",
    "        for id_, data in structures.items()\n",
    "    )\n",
    ")"
   ]
  },
  {
   "cell_type": "code",
   "execution_count": null,
   "metadata": {},
   "outputs": [],
   "source": [
    "for db_structures in structures.values():\n",
    "    if db_structures:\n",
    "        a_structure = db_structures[randint(0, len(db_structures)-1)]\n",
    "print(a_structure.as_pdb)"
   ]
  }
 ],
 "metadata": {
  "interpreter": {
   "hash": "83a304c523089dae3e821d73b2bba45645c24f7d1f49d0d851a599845009985d"
  },
  "kernelspec": {
   "display_name": "Python 3.8.10 64-bit ('marketplace': virtualenv)",
   "language": "python",
   "name": "python3"
  },
  "language_info": {
   "codemirror_mode": {
    "name": "ipython",
    "version": 3
   },
   "file_extension": ".py",
   "mimetype": "text/x-python",
   "name": "python",
   "nbconvert_exporter": "python",
   "pygments_lexer": "ipython3",
   "version": "3.8.10"
  },
  "orig_nbformat": 4
 },
 "nbformat": 4,
 "nbformat_minor": 2
}
